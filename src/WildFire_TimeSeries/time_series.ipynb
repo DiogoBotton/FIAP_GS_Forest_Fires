{
 "cells": [
  {
   "cell_type": "markdown",
   "id": "fca0e710",
   "metadata": {},
   "source": [
    "Os incêndios florestais são um grave problema para a preservação das Florestas Tropicais. Compreender a frequência dos incêndios florestais em uma série temporal pode ajudar a tomar medidas para evitá-los.\n",
    "\n",
    "Objetivo: Realizar a previsão de frequências de focos de incêndio para X dias."
   ]
  }
 ],
 "metadata": {
  "kernelspec": {
   "display_name": "Python 3",
   "language": "python",
   "name": "python3"
  },
  "language_info": {
   "codemirror_mode": {
    "name": "ipython",
    "version": 3
   },
   "file_extension": ".py",
   "mimetype": "text/x-python",
   "name": "python",
   "nbconvert_exporter": "python",
   "pygments_lexer": "ipython3",
   "version": "3.12.10"
  }
 },
 "nbformat": 4,
 "nbformat_minor": 5
}
